{
 "cells": [
  {
   "cell_type": "code",
   "execution_count": 1,
   "metadata": {
    "collapsed": true
   },
   "outputs": [],
   "source": [
    "import requests"
   ]
  },
  {
   "cell_type": "code",
   "execution_count": 6,
   "metadata": {
    "collapsed": true
   },
   "outputs": [],
   "source": [
    "import bs4"
   ]
  },
  {
   "cell_type": "code",
   "execution_count": 3,
   "metadata": {
    "collapsed": false
   },
   "outputs": [
    {
     "data": {
      "text/plain": [
       "200"
      ]
     },
     "execution_count": 3,
     "metadata": {},
     "output_type": "execute_result"
    }
   ],
   "source": [
    "response = requests.get(\"https://www.dlapiper.com/en/uk/people/?region=global&skip=3600\")\n",
    "response.status_code"
   ]
  },
  {
   "cell_type": "code",
   "execution_count": 5,
   "metadata": {
    "collapsed": false
   },
   "outputs": [],
   "source": [
    "dom = bs4.BeautifulSoup(response.content, \"html.parser\")"
   ]
  },
  {
   "cell_type": "code",
   "execution_count": 8,
   "metadata": {
    "collapsed": false
   },
   "outputs": [
    {
     "data": {
      "text/plain": [
       "<li class=\"people-list-item\" itemscope=\"\" itemtype=\"http://schema.org/Person\">\n",
       "<a class=\"media-img link-complex\" data-bind=\"attr: { href: Url}, bindHistoryClick:$data\" itemscope=\"url\">\n",
       "<!--googleoff: snippet-->\n",
       "<img class=\"person-img\" data-bind=\"visible: PhotoUrl, attr: { src: PhotoUrl }\" itemprop=\"image\"/>\n",
       "<!--googleon: snippet-->\n",
       "</a>\n",
       "<a class=\"media-ext link-complex\" data-bind=\"attr: { href: Url}, bindHistoryClick:$data\" itemscope=\"url\">\n",
       "<h3 class=\"person-name\" data-bind=\"html: Name\" itemprop=\"name\"></h3>\n",
       "</a>\n",
       "<h4 class=\"person-title\" data-bind=\"html: Title\" itemprop=\"jobTitle\"></h4>\n",
       "<div class=\"media-body person-contact-info\">\n",
       "<ul class=\"person-contact-list person-contact-list--primary\" data-bind=\"foreach:Offices\">\n",
       "<li class=\"person-contact-item person-contact-phone\">\n",
       "<a class=\"person-contact-link contact-location\" data-bind=\"html: Name,attr: {href: Url}\" itemprop=\"location\" role=\"link\"></a>\n",
       "<!-- ko if: AdditonalInfo  -->\n",
       "<span class=\"phone-label\">T: </span>\n",
       "<a class=\"person-contact-link list--stacked-link\" data-bind=\"html: AdditonalInfo, attr: {href: 'tel:' + AdditonalInfo()}\" itemprop=\"telephone\"></a>\n",
       "<!-- /ko -->\n",
       "</li>\n",
       "</ul>\n",
       "<ul class=\"person-contact-list person-contact-list--secondary\">\n",
       "<li class=\"person-contact-item person-contact-mail\" data-bind=\"visible: BusinessEmail\" itemprop=\"email\">\n",
       "<a class=\"person-contact-link list--stacked-link\" data-bind=\"html: BusinessEmail, attr: { href: 'mailto:' + BusinessEmail(), 'data-modal-query': '?email=' + BusinessEmail() }\"></a>\n",
       "</li>\n",
       "<li class=\"person-contact-item person-contact-vcard\" data-bind=\"visible: VCardUrl\" itemscope=\"sameAs\">\n",
       "<a class=\"list--stacked-link person-contact-link\" data-bind=\"attr: { href: VCardUrl }\" rel=\"nofollow\">vCard</a>\n",
       "</li>\n",
       "</ul>\n",
       "</div>\n",
       "</li>"
      ]
     },
     "execution_count": 8,
     "metadata": {},
     "output_type": "execute_result"
    }
   ],
   "source": [
    "dom.select_one(\".people-list-item\")"
   ]
  },
  {
   "cell_type": "code",
   "execution_count": 1,
   "metadata": {
    "collapsed": true
   },
   "outputs": [],
   "source": [
    "from selenium import webdriver"
   ]
  },
  {
   "cell_type": "code",
   "execution_count": 2,
   "metadata": {
    "collapsed": false
   },
   "outputs": [],
   "source": [
    "driver = webdriver.Firefox()"
   ]
  },
  {
   "cell_type": "code",
   "execution_count": 3,
   "metadata": {
    "collapsed": true
   },
   "outputs": [],
   "source": [
    "driver.get(\"https://www.dlapiper.com/en/uk/people/?region=global&skip=1000\")"
   ]
  },
  {
   "cell_type": "code",
   "execution_count": 16,
   "metadata": {
    "collapsed": false
   },
   "outputs": [],
   "source": [
    "selected = driver.find_elements_by_css_selector(\".people-list-item\")"
   ]
  },
  {
   "cell_type": "code",
   "execution_count": 5,
   "metadata": {
    "collapsed": false
   },
   "outputs": [],
   "source": [
    "contents = driver.page_source"
   ]
  },
  {
   "cell_type": "code",
   "execution_count": 25,
   "metadata": {
    "collapsed": true
   },
   "outputs": [],
   "source": [
    "aa = selected[2]"
   ]
  },
  {
   "cell_type": "code",
   "execution_count": 33,
   "metadata": {
    "collapsed": false
   },
   "outputs": [
    {
     "data": {
      "text/plain": [
       "'li'"
      ]
     },
     "execution_count": 33,
     "metadata": {},
     "output_type": "execute_result"
    }
   ],
   "source": [
    "aa."
   ]
  },
  {
   "cell_type": "code",
   "execution_count": 8,
   "metadata": {
    "collapsed": false
   },
   "outputs": [],
   "source": [
    "dom = bs4.BeautifulSoup(contents, \"html.parser\")"
   ]
  },
  {
   "cell_type": "code",
   "execution_count": 11,
   "metadata": {
    "collapsed": false
   },
   "outputs": [],
   "source": [
    "response = dom.select(\".people-list-item\")"
   ]
  },
  {
   "cell_type": "code",
   "execution_count": 12,
   "metadata": {
    "collapsed": false
   },
   "outputs": [
    {
     "data": {
      "text/plain": [
       "<li class=\"people-list-item\" itemscope=\"\" itemtype=\"http://schema.org/Person\">\n",
       "<a class=\"media-img link-complex\" data-bind=\"attr: { href: Url}, bindHistoryClick:$data\" href=\"/en/uk/people/a/aas-karoline/\" itemscope=\"url\">\n",
       "<!--googleoff: snippet-->\n",
       "<img class=\"person-img\" data-bind=\"visible: PhotoUrl, attr: { src: PhotoUrl }\" itemprop=\"image\" src=\"/%7E/media/Images/People/A/Aas%20Karoline/Karoline%20Aas_clr.jpg?w=138\"/>\n",
       "<!--googleon: snippet-->\n",
       "</a>\n",
       "<a class=\"media-ext link-complex\" data-bind=\"attr: { href: Url}, bindHistoryClick:$data\" href=\"/en/uk/people/a/aas-karoline/\" itemscope=\"url\">\n",
       "<h3 class=\"person-name\" data-bind=\"html: Name\" itemprop=\"name\">Karoline Ulshagen  Aas</h3>\n",
       "</a>\n",
       "<h4 class=\"person-title\" data-bind=\"html: Title\" itemprop=\"jobTitle\">Associate</h4>\n",
       "<div class=\"media-body person-contact-info\">\n",
       "<ul class=\"person-contact-list person-contact-list--primary\" data-bind=\"foreach:Offices\">\n",
       "<li class=\"person-contact-item person-contact-phone\">\n",
       "<a class=\"person-contact-link contact-location\" data-bind=\"html: Name,attr: {href: Url}\" href=\"/en/uk/locations/oslo/\" itemprop=\"location\" role=\"link\">Oslo</a>\n",
       "<!-- ko if: AdditonalInfo  -->\n",
       "<span class=\"phone-label\">T: </span>\n",
       "<a class=\"person-contact-link list--stacked-link\" data-bind=\"html: AdditonalInfo, attr: {href: 'tel:' + AdditonalInfo()}\" href=\"tel:+47%2024%2013%2015%2000\" itemprop=\"telephone\">+47 24 13 15 00</a>\n",
       "<!-- /ko -->\n",
       "</li>\n",
       "</ul>\n",
       "<ul class=\"person-contact-list person-contact-list--secondary\">\n",
       "<li class=\"person-contact-item person-contact-mail\" data-bind=\"visible: BusinessEmail\" itemprop=\"email\">\n",
       "<a class=\"person-contact-link list--stacked-link\" data-bind=\"html: BusinessEmail, attr: { href: 'mailto:' + BusinessEmail(), 'data-modal-query': '?email=' + BusinessEmail() }\" data-modal-query=\"?email=karoline.aas@dlapiper.com\" href=\"mailto:karoline.aas@dlapiper.com\">karoline.aas@dlapiper.com</a>\n",
       "</li>\n",
       "<li class=\"person-contact-item person-contact-vcard\" data-bind=\"visible: VCardUrl\" itemscope=\"sameAs\">\n",
       "<a class=\"list--stacked-link person-contact-link\" data-bind=\"attr: { href: VCardUrl }\" href=\"/en/uk/people/a/aas-karoline/?format=vCard\" rel=\"nofollow\">vCard</a>\n",
       "</li>\n",
       "</ul>\n",
       "</div>\n",
       "</li>"
      ]
     },
     "execution_count": 12,
     "metadata": {},
     "output_type": "execute_result"
    }
   ],
   "source": [
    "response[0]"
   ]
  },
  {
   "cell_type": "code",
   "execution_count": null,
   "metadata": {
    "collapsed": true
   },
   "outputs": [],
   "source": []
  }
 ],
 "metadata": {
  "kernelspec": {
   "display_name": "Python 3",
   "language": "python",
   "name": "python3"
  },
  "language_info": {
   "codemirror_mode": {
    "name": "ipython",
    "version": 3
   },
   "file_extension": ".py",
   "mimetype": "text/x-python",
   "name": "python",
   "nbconvert_exporter": "python",
   "pygments_lexer": "ipython3",
   "version": "3.5.2"
  }
 },
 "nbformat": 4,
 "nbformat_minor": 1
}
